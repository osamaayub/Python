def AlphaBeta(depth,Index,Turns,Score,Alpha,Beta):
if depth==3:
return Score[Index]
if(Turns):
Best=min
for i in range(0,2):
  v=AlphaBeta(depth+1,Index+2+i,False,Score,Alpha,Beta)
  Best=max(Best,v)
  Alpha=max(Alpha,Best)
  if Beta<=Alpha:
   break
  return Best
else:
     Best=max 
    for i in range(0,2):
      v=AlphaBeta(depth+1,Index+2+i,True,Score,Alpha,Beta)
      Best=min(Best,v)
      Beta=min(Beta,Best)
      if Beta<=Alpha:
      break
    return Best

Alpha, Beta = 1000, -1000 
Scores = [10,11,9,12,14,15,13,14,15,2,4,1,3,22,24,25]
print("The optimal value is :", Alpha_Beta(0,0,True,Scores,Beta,Alpha))


